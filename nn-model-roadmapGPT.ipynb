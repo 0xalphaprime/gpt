{
 "cells": [
  {
   "cell_type": "code",
   "execution_count": 5,
   "metadata": {},
   "outputs": [],
   "source": [
    "import os \n",
    "import openai\n",
    "from dotenv import load_dotenv\n",
    "\n",
    "load_dotenv()\n",
    "\n",
    "openai.api_key = os.getenv(\"OPENAI_API_KEY\")\n"
   ]
  },
  {
   "cell_type": "code",
   "execution_count": 2,
   "metadata": {},
   "outputs": [
    {
     "name": "stdout",
     "output_type": "stream",
     "text": [
      "\n",
      "\n",
      "This paper presents a new approach to artificial neural networks called the Neural Autoregressive Distribution Estimator (NADE). NADE is a generative model that uses a feed-forward neural network to estimate the probability distribution of a given dataset. The model is trained using a maximum likelihood approach, and is capable of learning complex distributions. The paper also discusses the advantages of NADE over other generative models, such as its ability to capture long-term dependencies in data. Finally, the paper presents experimental results that demonstrate the effectiveness of NADE in modeling real-world datasets.\n"
     ]
    }
   ],
   "source": [
    "# v1 Completion\n",
    "\n",
    "response = openai.Completion.create(model=\"text-davinci-003\", prompt=\"read this article `https://www.jmlr.org/papers/volume3/bengio03a/bengio03a.pdf` and summarize it for me\", temperature=0.0, max_tokens=2000)\n",
    "# print(response)\n",
    "print(response['choices'][0]['text'])"
   ]
  },
  {
   "cell_type": "code",
   "execution_count": 6,
   "metadata": {},
   "outputs": [
    {
     "name": "stdout",
     "output_type": "stream",
     "text": [
      "Sure, here is an outline of steps and understanding needed to advance towards building a finished neural network model:\n",
      "\n",
      "**1. Basics of Neural Networks**\n",
      "- Understanding of how neural networks work\n",
      "- The structure of a neural network\n",
      "- Types of layers in neural networks (e.g., convolutional layers, pooling layers, etc.)\n",
      "- Activation functions (e.g., sigmoid, ReLU, tanh, etc.)\n",
      "\n",
      "**2. Data Prep and Training**\n",
      "- Collecting data to train the neural network model\n",
      "- Cleaning data and preparing it for use in the model\n",
      "- The importance of data preprocessing and normalization\n",
      "- Splitting the data into training and testing sets\n",
      "- Choosing loss functions and optimization algorithms\n",
      "- Training and testing the neural network model\n",
      "\n",
      "**3. Hyperparameter Tuning**\n",
      "- Understanding and experimentation with hyperparameters\n",
      "- Finding the optimal set of hyperparameters that maximize the performance of the model\n",
      "- Regularization techniques to prevent overfitting\n",
      "\n",
      "**4. Scaling and Specialization**\n",
      "- Applying techniques to scale neural networks to large datasets or distributed computing environments\n",
      "- Specializing neural network architectures for specific domains, such as image, text, audio, etc.\n",
      "\n",
      "**5. Building Applications**\n",
      "- Implementing neural network models into real-world applications\n",
      "- Using pre-trained neural network models to perform tasks such as classification, object detection or segmentation, OCR, speech recognition, etc.\n",
      "\n",
      "Each of these categories has additional sub-objectives which need to be mastered in order to advance towards building a finished neural network model. Throughout the process, it is important to monitor the progress, track new discoveries, and revisit concepts as needed to ensure a solid foundation.\n"
     ]
    }
   ],
   "source": [
    "# v1 Chat Completion\n",
    "\n",
    "response = openai.ChatCompletion.create(\n",
    "    model=\"gpt-3.5-turbo\", \n",
    "     messages=[\n",
    "        # This is the prompt to frame the scope of the assistant's responsiblities\n",
    "        {\"role\": \"system\", \"content\": \"You are a private teacher helping someone learn programming. Your pupil has a solid foundational understanding of python, wants to learn how to build their own neural-network model. This process will be carried out over an extended period of time, and you are tasked to define a plan of action.\"}, \n",
    "        # this is the users first question\n",
    "        {\"role\": \"user\", \"content\": \"complete the rubric for the project. include the sequential outline of steps and understanding needed to advance to a finished model. include specific sub-objectives within the broader categories. this will serve as our roadmap.\"}, \n",
    "    ])\n",
    "# print(response) \n",
    "print(response.choices[0].message.content)"
   ]
  },
  {
   "attachments": {},
   "cell_type": "markdown",
   "metadata": {},
   "source": [
    "Lesson Plan:\n",
    "\n",
    "Title: Integrating CSS and HTML in Django Project\n",
    "\n",
    "Objective: By the end of this lesson, the student will be able to:\n",
    "\n",
    "1. Understand where CSS files should be kept in a Django project.\n",
    "2. Know how to integrate CSS files into the .html files in the project.\n",
    "3. Learn about using a base.html file and how to extend it to other .html files in the project.\n",
    "4. Understand how to reference styles in the base.html and other .html files in the project.\n",
    "\n",
    "Introduction: In a Django project, the CSS files are an important part of web design. They help to make the website look visually appealing and also provide a better user experience. In this lesson, we will explain where CSS files should be kept in a Django project, how to integrate them into the various .html files we will be utilizing, and teach you about using a base.html file and extending it to other .html files in the project.\n",
    "\n",
    "Body:\n",
    "\n",
    "Step 1: Where to keep CSS files\n",
    "\n",
    "CSS files should be kept in the static directory of your Django project. By default, all static files are stored in an app directory named 'static.' You can create a new static directory for your project if it does not already exist. To do this, create a directory named 'static' in the project directory, and then create a subdirectory in it with the same name as your app directory. For example, if your app name is 'myapp,' then your static directory should be structured like this:\n",
    "\n",
    "```\n",
    "myproject/\n",
    "    static/\n",
    "        myapp/\n",
    "            style.css\n",
    "```\n",
    "\n",
    "Step 2: Integrating CSS files\n",
    "\n",
    "To integrate the CSS file into your .html file, you need to use the {% load static %} template tag in the head section of your .html file. For example:\n",
    "\n",
    "```\n",
    "{% load static %}\n",
    "<!DOCTYPE html>\n",
    "<html>\n",
    "<head>\n",
    "    <title>My Page</title>\n",
    "    <link rel=\"stylesheet\" type=\"text/css\" href=\"{% static 'myapp/style.css' %}\">\n",
    "</head>\n",
    "<body>\n",
    "    ...\n",
    "</body>\n",
    "</html>\n",
    "```\n",
    "\n",
    "Step 3: Using a base.html file\n",
    "\n",
    "A base.html file is a common technique used in Django web development. It is a template that contains the common elements of your project such as the header, footer, and navigation bar. This template can then be extended to other .html files in your project. To use a base.html file, you need to create a file named base.html and place it in the templates directory of your app. For example:\n",
    "\n",
    "```\n",
    "myapp/\n",
    "    templates/\n",
    "        base.html\n",
    "        index.html\n",
    "        about.html\n",
    "```\n",
    "\n",
    "Step 4: Extending the base.html file\n",
    "\n",
    "To extend the base.html file to other .html files, you need to use the {% extends %} template tag at the beginning of your .html file. For example:\n",
    "\n",
    "```\n",
    "{% extends 'base.html' %}\n",
    "\n",
    "{% block content %}\n",
    "...\n",
    "{% endblock %}\n",
    "```\n",
    "\n",
    "Step 5: Referencing style in the base.html file and other .html files\n",
    "\n",
    "You can reference styles in both the base.html file and other .html files. However, it is recommended that you include the style reference in the base.html file, as it will be loaded only once, and not on every page request. \n",
    "\n",
    "Conclusion:\n",
    "\n",
    "In conclusion, integrating CSS and HTML in a Django project is an important aspect of web development. To get started, you need to keep the CSS files in a static directory, integrate them into the .html files using the {% load static %} template tag, create a base.html file, extend it to other .html files, and reference styles in both the base.html file and other .html files. By following these steps, you can create a visually appealing and user-friendly website that will keep your users coming back for more.\n"
   ]
  }
 ],
 "metadata": {
  "kernelspec": {
   "display_name": "Python 3",
   "language": "python",
   "name": "python3"
  },
  "language_info": {
   "codemirror_mode": {
    "name": "ipython",
    "version": 3
   },
   "file_extension": ".py",
   "mimetype": "text/x-python",
   "name": "python",
   "nbconvert_exporter": "python",
   "pygments_lexer": "ipython3",
   "version": "3.9.16"
  },
  "orig_nbformat": 4
 },
 "nbformat": 4,
 "nbformat_minor": 2
}
